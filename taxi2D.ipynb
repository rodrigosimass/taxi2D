{
    "cells": [
        {
            "cell_type": "markdown",
            "metadata": {},
            "source": [
                "# Learning and Decision Making"
            ]
        },
        {
            "cell_type": "markdown",
            "metadata": {},
            "source": [
                "### 1. The MDP Model \n",
                "\n",
                "Consider once again the taxi domain described in the Homework which you modeled using a Markov decision process. In this lab you will interact with larger version of the same problem. You will use an MDP based on the aforementioned domain and investigate how to evaluate, solve and simulate a Markov decision problem. The domain is represented in the diagram below.\n",
                "\n",
                "<img src=\"taxi.png\" width=\"200px\">\n",
                "\n",
                "In the taxi domain above,\n",
                "\n",
                "* The taxi can be in any of the 25 cells in the diagram. The passenger can be at any of the 4 marked locations ($Y$, $B$, $G$, $R$) or in the taxi. Additionally, the passenger wishes to go to one of the 4 possible destinations. The total number of states, in this case, is $25\\times 5\\times 4$.\n",
                "* At each step, the agent (taxi driver) may move in any of the four directions -- south, north, east and west. It can also pickup the passenger or drop off the passenger. \n",
                "* The goal of the taxi driver is to pickup the passenger and drop it at the passenger's desired destination.\n",
                "\n",
                "**Throughout the lab, use $\\gamma=0.99$.**\n",
                "\n",
                "$$\\diamond$$"
            ]
        },
        {
            "cell_type": "markdown",
            "metadata": {},
            "source": [
                "In this first activity, you will implement an MDP model in Python. You will start by loading the MDP information from a `numpy` binary file, using the `numpy` function `load`. The file contains the list of states, actions, the transition probability matrices and cost function.\n",
                "\n",
                "---\n",
                "\n",
                "#### Activity 1.        \n",
                "\n",
                "Write a function named `load_mdp` that receives, as input, a string corresponding to the name of the file with the MDP information, and a real number $\\gamma$ between $0$ and $1$. The loaded file contains 4 arrays:\n",
                "\n",
                "* An array `S` that contains all the states in the MDP. There is a total of $501$ states describing the possible taxi-passenger configurations. Those states are represented as strings of the form `\"(x, y, p, d)\"`, where $(x,y)$ represents the position of the taxi in the grid, $p$ represents the position of the passenger ($R$, $G$, $Y$, $B$, or in the taxi), and $d$ the destination of the passenger ($R$, $G$, $Y$, $B$). There is one additional absorbing state called `\"Final\"` to which the MDP transitions after reaching the goal.\n",
                "* An array `A` that contains all the actions in the MDP. Each action is represented as a string `\"South\"`, `\"North\"`, and so on.\n",
                "* An array `P` containing 5 $501\\times 501$ sub-arrays, each corresponding to the transition probability matrix for one action.\n",
                "* An array `c` containing the cost function for the MDP.\n",
                "\n",
                "Your function should create the MDP as a tuple `(S, A, (Pa, a = 0, ..., 5), c, g)`, where `S` is a tuple containing the states in the MDP represented as strings (see above), `A` is a tuple containing the actions in the MDP represented as strings (see above), `P` is a tuple with 6 elements, where `P[a]` is an np.array corresponding to the transition probability matrix for action `a`, `c` is an np.array corresponding to the cost function for the MDP, and `g` is a float, corresponding to the discount and provided as the argument $\\gamma$ of your function. Your function should return the MDP tuple.\n",
                "\n",
                "**Note**: Don't forget to import `numpy`.\n",
                "\n",
                "---"
            ]
        },
        {
            "cell_type": "code",
            "execution_count": 1,
            "metadata": {
                "scrolled": false
            },
            "outputs": [],
            "source": [
                "import numpy as np\n",
                "\n",
                "def load_mdp(fileName, gama):\n",
                "    ld = np.load(fileName)\n",
                "    return (ld['S'], ld['A'], ld['P'], ld['c'],gama)"
            ]
        },
        {
            "cell_type": "code",
            "execution_count": 2,
            "metadata": {},
            "outputs": [
                {
                    "name": "stdout",
                    "output_type": "stream",
                    "text": [
                        "Number of states: 501\n",
                        "Random state: (1, 0, 0, 2)\n",
                        "Final state: Final\n",
                        "Number of actions: 6\n",
                        "Random action: West\n",
                        "Transition probabilities for the selected state/action:\n",
                        "[0. 0. 0. 0. 0. 0. 0. 0. 0. 0. 0. 0. 0. 0. 0. 0. 0. 0. 0. 0. 0. 0. 0. 0.\n",
                        " 0. 0. 0. 0. 0. 0. 0. 0. 0. 0. 0. 0. 0. 0. 0. 0. 0. 0. 0. 0. 0. 0. 0. 0.\n",
                        " 0. 0. 0. 0. 0. 0. 0. 0. 0. 0. 0. 0. 0. 0. 0. 0. 0. 0. 0. 0. 0. 0. 0. 0.\n",
                        " 0. 0. 0. 0. 0. 0. 0. 0. 0. 0. 0. 0. 0. 0. 0. 0. 0. 0. 0. 0. 0. 0. 0. 0.\n",
                        " 0. 0. 0. 0. 0. 0. 1. 0. 0. 0. 0. 0. 0. 0. 0. 0. 0. 0. 0. 0. 0. 0. 0. 0.\n",
                        " 0. 0. 0. 0. 0. 0. 0. 0. 0. 0. 0. 0. 0. 0. 0. 0. 0. 0. 0. 0. 0. 0. 0. 0.\n",
                        " 0. 0. 0. 0. 0. 0. 0. 0. 0. 0. 0. 0. 0. 0. 0. 0. 0. 0. 0. 0. 0. 0. 0. 0.\n",
                        " 0. 0. 0. 0. 0. 0. 0. 0. 0. 0. 0. 0. 0. 0. 0. 0. 0. 0. 0. 0. 0. 0. 0. 0.\n",
                        " 0. 0. 0. 0. 0. 0. 0. 0. 0. 0. 0. 0. 0. 0. 0. 0. 0. 0. 0. 0. 0. 0. 0. 0.\n",
                        " 0. 0. 0. 0. 0. 0. 0. 0. 0. 0. 0. 0. 0. 0. 0. 0. 0. 0. 0. 0. 0. 0. 0. 0.\n",
                        " 0. 0. 0. 0. 0. 0. 0. 0. 0. 0. 0. 0. 0. 0. 0. 0. 0. 0. 0. 0. 0. 0. 0. 0.\n",
                        " 0. 0. 0. 0. 0. 0. 0. 0. 0. 0. 0. 0. 0. 0. 0. 0. 0. 0. 0. 0. 0. 0. 0. 0.\n",
                        " 0. 0. 0. 0. 0. 0. 0. 0. 0. 0. 0. 0. 0. 0. 0. 0. 0. 0. 0. 0. 0. 0. 0. 0.\n",
                        " 0. 0. 0. 0. 0. 0. 0. 0. 0. 0. 0. 0. 0. 0. 0. 0. 0. 0. 0. 0. 0. 0. 0. 0.\n",
                        " 0. 0. 0. 0. 0. 0. 0. 0. 0. 0. 0. 0. 0. 0. 0. 0. 0. 0. 0. 0. 0. 0. 0. 0.\n",
                        " 0. 0. 0. 0. 0. 0. 0. 0. 0. 0. 0. 0. 0. 0. 0. 0. 0. 0. 0. 0. 0. 0. 0. 0.\n",
                        " 0. 0. 0. 0. 0. 0. 0. 0. 0. 0. 0. 0. 0. 0. 0. 0. 0. 0. 0. 0. 0. 0. 0. 0.\n",
                        " 0. 0. 0. 0. 0. 0. 0. 0. 0. 0. 0. 0. 0. 0. 0. 0. 0. 0. 0. 0. 0. 0. 0. 0.\n",
                        " 0. 0. 0. 0. 0. 0. 0. 0. 0. 0. 0. 0. 0. 0. 0. 0. 0. 0. 0. 0. 0. 0. 0. 0.\n",
                        " 0. 0. 0. 0. 0. 0. 0. 0. 0. 0. 0. 0. 0. 0. 0. 0. 0. 0. 0. 0. 0. 0. 0. 0.\n",
                        " 0. 0. 0. 0. 0. 0. 0. 0. 0. 0. 0. 0. 0. 0. 0. 0. 0. 0. 0. 0. 0.]\n",
                        "Cost for the selected state/action:\n",
                        "0.7\n",
                        "Discount: 0.99\n"
                    ]
                }
            ],
            "source": [
                "import numpy.random as rand\n",
                "\n",
                "M = load_mdp('data/taxi.npz', 0.99)\n",
                "\n",
                "rand.seed(42)\n",
                "\n",
                "# States\n",
                "print('Number of states:', len(M[0]))\n",
                "\n",
                "# Random state\n",
                "s = rand.randint(len(M[0]))\n",
                "print('Random state:', M[0][s])\n",
                "\n",
                "# Final state\n",
                "print('Final state:', M[0][-1])\n",
                "\n",
                "# Actions\n",
                "print('Number of actions:', len(M[1]))\n",
                "\n",
                "# Random action\n",
                "a = rand.randint(len(M[1]))\n",
                "print('Random action:', M[1][a])\n",
                "\n",
                "# Transition probabilities\n",
                "print('Transition probabilities for the selected state/action:')\n",
                "print(M[2][a][s, :])\n",
                "\n",
                "# Cost\n",
                "print('Cost for the selected state/action:')\n",
                "print(M[3][s, a])\n",
                "\n",
                "# Discount\n",
                "print('Discount:', M[4])"
            ]
        },
        {
            "cell_type": "markdown",
            "metadata": {},
            "source": [
                "### 2. Prediction\n",
                "\n",
                "You are now going to evaluate a given policy, computing the corresponding cost-to-go."
            ]
        },
        {
            "cell_type": "markdown",
            "metadata": {
                "raw_mimetype": "text/latex"
            },
            "source": [
                "---\n",
                "\n",
                "#### Activity 2.\n",
                "\n",
                "You will now describe the policy that, at each state $x$, always moves the taxi down (South). Recall that the action \"South\" corresponds to the action index $0$. Your policy should be a `numpy` array named `pol` with as many rows as states and as many columns as actions, where `pol[s,a]` should contain the probability of action `a` in state `s` according to the desired policy. \n",
                "\n",
                "---"
            ]
        },
        {
            "cell_type": "code",
            "execution_count": 3,
            "metadata": {},
            "outputs": [
                {
                    "name": "stdout",
                    "output_type": "stream",
                    "text": [
                        "[[1 0 0 0 0 0]\n",
                        " [1 0 0 0 0 0]\n",
                        " [1 0 0 0 0 0]\n",
                        " ...\n",
                        " [1 0 0 0 0 0]\n",
                        " [1 0 0 0 0 0]\n",
                        " [1 0 0 0 0 0]]\n"
                    ]
                }
            ],
            "source": [
                "south = np.array([1,0,0,0,0,0])\n",
                "pol = np.tile(south,(len(M[0]),1))\n",
                "print(pol)"
            ]
        },
        {
            "cell_type": "markdown",
            "metadata": {},
            "source": [
                "---\n",
                "\n",
                "#### Activity 3.\n",
                "\n",
                "You will now write a function called `evaluate_pol` that evaluates a given policy. Your function should receive, as an input, an MDP described as a tuple like that of **Activity 1** and a policy described as an array like that of **Activity 2** and return a `numpy` array corresponding to the cost-to-go function associated with the given policy.\n",
                "\n",
                "---"
            ]
        },
        {
            "cell_type": "code",
            "execution_count": 4,
            "metadata": {},
            "outputs": [],
            "source": [
                "def evaluate_pol(MDP, pol):\n",
                "    numStates = len(MDP[0])\n",
                "    numActions = len(MDP[1])\n",
                "    P = MDP[2]\n",
                "    c = MDP[3]\n",
                "    lam = MDP[4]\n",
                "    \n",
                "    cpi = (pol * c).sum(axis=1)\n",
                "    Ppi = pol[:,0, None] * P[0]\n",
                "    for a in range(1,numActions):\n",
                "        Ppi += pol[:,a,None] * P[a]\n",
                "        \n",
                "    Jpi = np.linalg.inv(np.eye(numStates) - lam * Ppi).dot(cpi)\n",
                "    \n",
                "    return Jpi[:, None]"
            ]
        },
        {
            "cell_type": "markdown",
            "metadata": {},
            "source": [
                "As an example, you can evaluate the policy from **Activity 2** in the MDP from **Activity 1**.\n",
                "\n",
                "```python\n",
                "Jpi = evaluate_pol(M, pol)\n",
                "\n",
                "rand.seed(42)\n",
                "\n",
                "s = rand.randint(len(M[0]))\n",
                "print('Cost to go at state %s:' % M[0][s], Jpi[s])\n",
                "\n",
                "s = rand.randint(len(M[0]))\n",
                "print('Cost to go at state %s:' % M[0][s], Jpi[s])\n",
                "\n",
                "s = rand.randint(len(M[0]))\n",
                "print('Cost to go at state %s:' % M[0][s], Jpi[s])\n",
                "```\n",
                "\n",
                "Output: \n",
                "```\n",
                "Cost to go at state (1, 0, 0, 2): [70.]\n",
                "Cost to go at state (4, 1, 3, 3): [70.]\n",
                "Cost to go at state (3, 2, 2, 0): [70.]\n",
                "```"
            ]
        },
        {
            "cell_type": "markdown",
            "metadata": {},
            "source": [
                "### 3. Control\n",
                "\n",
                "In this section you are going to compare value and policy iteration, both in terms of time and number of iterations."
            ]
        },
        {
            "cell_type": "markdown",
            "metadata": {},
            "source": [
                "---\n",
                "\n",
                "#### Activity 4\n",
                "\n",
                "In this activity you will show that the policy in Activity 3 is _not_ optimal. For that purpose, you will use value iteration to compute the optimal cost-to-go, $J^*$, and show that $J^*\\neq J^\\pi$. \n",
                "\n",
                "Write a function called `value_iteration` that receives as input an MDP represented as a tuple like that of **Activity 1** and returns an `numpy` array corresponding to the optimal cost-to-go function associated with that MDP. Before returning, your function should print:\n",
                "\n",
                "* The time it took to run, in the format `Execution time: xxx seconds`, where `xxx` represents the number of seconds rounded up to $3$ decimal places.\n",
                "* The number of iterations, in the format `N. iterations: xxx`, where `xxx` represents the number of iterations.\n",
                "\n",
                "**Note 1:** Stop the algorithm when the error between iterations is smaller than $10^{-8}$.\n",
                "\n",
                "**Note 2:** You may find useful the function ``time()`` from the module ``time``.\n",
                "\n",
                "---"
            ]
        },
        {
            "cell_type": "code",
            "execution_count": 5,
            "metadata": {
                "scrolled": true
            },
            "outputs": [],
            "source": [
                "import time as t\n",
                "import math as m\n",
                "\n",
                "def round_up(n, decimals=0):\n",
                "    multiplier = 10 ** decimals\n",
                "    return m.ceil(n * multiplier) / multiplier\n",
                "\n",
                "def Toperator(MDP,J):\n",
                "    numStates = len(MDP[0])\n",
                "    numActions = len(MDP[1])\n",
                "    P = MDP[2]\n",
                "    c = MDP[3]\n",
                "    lam = MDP[4]\n",
                "\n",
                "    Q =np.zeros((numActions,numStates))\n",
                "    #print(\"j shape:\", J.shape)\n",
                "    for a in range(numActions):\n",
                "        Q[a] = c[:,a] + lam * P[a].dot(J)\n",
                "        \n",
                "    return np.min(Q,axis=0)\n",
                "    \n",
                "def value_iteration(MDP):\n",
                "    start = t.time()\n",
                "    numIt = 0\n",
                "    J = np.zeros(len(MDP[0])) #Jzero\n",
                "    error = 1\n",
                "    \n",
                "    while(error > 10e-8):\n",
                "        #print(\"J=\",J)\n",
                "        Jnew = Toperator(MDP,J)\n",
                "        error = np.linalg.norm(Jnew-J)\n",
                "        numIt+=1\n",
                "        J = Jnew\n",
                "    \n",
                "    end= t.time()\n",
                "    print(\"Execution time:\",round_up(end-start,3), \" seconds\")\n",
                "    print(\"N. iterations:\",numIt)\n",
                "    return J[:, None]"
            ]
        },
        {
            "cell_type": "markdown",
            "metadata": {},
            "source": [
                "For example, the optimal cost-to-go for the MDP from **Activity 1** is can be computed as follows.\n",
                "\n",
                "```python\n",
                "Jopt = value_iteration(M)\n",
                "\n",
                "rand.seed(42)\n",
                "\n",
                "s = rand.randint(len(M[0]))\n",
                "print('Cost to go at state %s:' % M[0][s], Jopt[s])\n",
                "\n",
                "s = rand.randint(len(M[0]))\n",
                "print('Cost to go at state %s:' % M[0][s], Jopt[s])\n",
                "\n",
                "s = rand.randint(len(M[0]))\n",
                "print('Cost to go at state %s:' % M[0][s], Jopt[s])\n",
                "\n",
                "print('\\nIs the policy from Activity 2 optimal?', np.all(np.isclose(Jopt, Jpi)))\n",
                "```\n",
                "\n",
                "Output:\n",
                "```\n",
                "Execution time: 0.031 seconds\n",
                "N. iterations: 18\n",
                "Cost to go at state (1, 0, 0, 2): [4.1]\n",
                "Cost to go at state (4, 1, 3, 3): [4.76]\n",
                "Cost to go at state (3, 2, 2, 0): [6.69]\n",
                "\n",
                "Is the policy from Activity 2 optimal? False\n",
                "```"
            ]
        },
        {
            "cell_type": "markdown",
            "metadata": {},
            "source": [
                "---\n",
                "\n",
                "#### Activity 5\n",
                "\n",
                "You will now compute the optimal policy using policy iteration. Write a function called `policy_iteration` that receives as input an MDP represented as a tuple like that of **Activity 1** and returns an `numpy` array corresponding to the optimal policy associated with that MDP. Your function should print the time it takes to run before returning, in the format `Execution time: xxx seconds`, where `xxx` represents the number of seconds rounded up to $3$ decimal places.\n",
                "\n",
                "**Note:** If you find that numerical errors affect your computations (especially when comparing two values/arrays) you may use the `numpy` function `isclose` with adequately set absolute and relative tolerance parameters (e.g., $10^{-8}$).\n",
                "\n",
                "---"
            ]
        },
        {
            "cell_type": "code",
            "execution_count": 6,
            "metadata": {
                "scrolled": false
            },
            "outputs": [],
            "source": [
                "def policy_iteration(MDP):\n",
                "    start = t.time()\n",
                "    numStates = len(MDP[0])\n",
                "    numActions = len(MDP[1])\n",
                "    P = MDP[2]\n",
                "    c = MDP[3]\n",
                "    lam = MDP[4]\n",
                "   \n",
                "    Q =np.zeros((numStates,numActions))\n",
                "    pi = np.ones((numStates,numActions)) / numActions\n",
                "    i = 0\n",
                "    pinew = np.zeros((numStates,numActions))\n",
                "    \n",
                "    while(True):\n",
                "        J = np.reshape(evaluate_pol(MDP,pi),(numStates,1))\n",
                "        \n",
                "        for a in range(numActions):\n",
                "            Q[:,a,None] = c[:,a,None] + lam * P[a].dot(J)\n",
                "\n",
                "        Qmin = Q.min(axis=1, keepdims=True)\n",
                "        pinew = np.isclose(Q, Qmin, atol=1e-8, rtol=1e-8).astype(int) \n",
                "\n",
                "        pinew = pinew / np.sum(pinew, axis=1, keepdims= True)\n",
                "        i+=1\n",
                "        if(i>2): break #TODO tirar isto\n",
                "\n",
                "        if ((pi==pinew).all()): break\n",
                "        pi = pinew\n",
                "        \n",
                "    end= t.time()\n",
                "    print(\"Execution time: \",round_up(end-start,3), \" seconds\")\n",
                "    print(\"N. iterations: \",i)\n",
                "    return pinew"
            ]
        },
        {
            "cell_type": "markdown",
            "metadata": {},
            "source": [
                "For example, the optimal policy for the MDP from **Activity 1** is can be computed as follows.\n",
                "\n",
                "```python\n",
                "popt = policy_iteration(M)\n",
                "\n",
                "rand.seed(42)\n",
                "\n",
                "# Select random state, and action using the policy computed\n",
                "s = rand.randint(len(M[0]))\n",
                "a = rand.choice(len(M[1]), p=popt[s, :])\n",
                "print('Policy at state %s: %s' % (M[0][s], M[1][a]))\n",
                "\n",
                "# Select random state, and action using the policy computed\n",
                "s = rand.randint(len(M[0]))\n",
                "a = rand.choice(len(M[1]), p=popt[s, :])\n",
                "print('Policy at state %s: %s' % (M[0][s], M[1][a]))\n",
                "\n",
                "# Select random state, and action using the policy computed\n",
                "s = rand.randint(len(M[0]))\n",
                "a = rand.choice(len(M[1]), p=popt[s, :])\n",
                "print('Policy at state %s: %s' % (M[0][s], M[1][a]))\n",
                "```\n",
                "\n",
                "Output:\n",
                "```\n",
                "Execution time: 0.089 seconds\n",
                "N. iterations: 3\n",
                "Policy at state (1, 0, 0, 2): North\n",
                "Policy at state (2, 3, 2, 2): West\n",
                "Policy at state (1, 4, 2, 0): West\n",
                "```"
            ]
        },
        {
            "cell_type": "markdown",
            "metadata": {},
            "source": [
                "### 4. Simulation\n",
                "\n",
                "Finally, in this section you will check whether the theoretical computations of the cost-to-go actually correspond to the cost incurred by an agent following a policy."
            ]
        },
        {
            "cell_type": "markdown",
            "metadata": {},
            "source": [
                "---\n",
                "\n",
                "#### Activity 6\n",
                "\n",
                "Write a function `simulate` that receives, as inputs\n",
                "\n",
                "* An MDP represented as a tuple like that of **Activity 1**;\n",
                "* A policy, represented as an `numpy` array like that of **Activity 2**;\n",
                "* An integer, corresponding to a state index\n",
                "\n",
                "Your function should return, as an output, a float corresponding to the estimated cost-to-go associated with the provided policy at the provided state. To estimate such cost-to-go, your function should:\n",
                "\n",
                "* Generate **100** trajectories of 10,000 steps each, starting in the provided state and following the provided policy. \n",
                "* For each trajectory, compute the accumulated (discounted) cost. \n",
                "* Compute the average cost over the 100 trajectories.\n",
                "\n",
                "**Note 1:** You may find useful to import the numpy module `numpy.random`.\n",
                "\n",
                "**Note 2:** Each simulation may take a bit of time, don't despair ☺️.\n",
                "\n",
                "---"
            ]
        },
        {
            "cell_type": "code",
            "execution_count": 7,
            "metadata": {},
            "outputs": [],
            "source": [
                "def simulate (MDP, pol, x0):\n",
                "    numStates = len(MDP[0])\n",
                "    numActions = len(MDP[1])\n",
                "    P = MDP[2]\n",
                "    c = MDP[3]\n",
                "    lam = MDP[4]\n",
                "    \n",
                "    costs = np.zeros(100,)\n",
                "    for i in range(100):\n",
                "        x = x0\n",
                "        disc = 1\n",
                "        cost = 0\n",
                "        for t in range(1,10000):\n",
                "            a = np.random.choice(numActions, 1, p=pol[x])[0]\n",
                "            nextx = np.random.choice(numStates,1, p=P[a][x])[0]\n",
                "            cost += c[x][a] * disc\n",
                "            disc *= lam\n",
                "            x = nextx\n",
                "        costs[i] = cost\n",
                "    return np.average(costs)"
            ]
        },
        {
            "cell_type": "markdown",
            "metadata": {},
            "source": [
                "For example, we can use this function to estimate the values of some random states and compare them with those from **Activity 4**.\n",
                "\n",
                "```python\n",
                "\n",
                "rand.seed(42)\n",
                "\n",
                "# Select random state, and evaluate for the optimal policy\n",
                "s = rand.randint(len(M[0]))\n",
                "print('Cost-to-go for state %s:' % M[0][s])\n",
                "print('\\tTheoretical:', Jopt[s])\n",
                "print('\\tEmpirical:', simulate(M, popt, s))\n",
                "\n",
                "# Select random state, and evaluate for the optimal policy\n",
                "s = rand.randint(len(M[0]))\n",
                "print('Cost-to-go for state %s:' % M[0][s])\n",
                "print('\\tTheoretical:', Jopt[s])\n",
                "print('\\tEmpirical:', simulate(M, popt, s))\n",
                "\n",
                "# Select random state, and evaluate for the optimal policy\n",
                "s = rand.randint(len(M[0]))\n",
                "print('Cost-to-go for state %s:' % M[0][s])\n",
                "print('\\tTheoretical:', Jopt[s])\n",
                "print('\\tEmpirical:', simulate(M, popt, s))\n",
                "```\n",
                "\n",
                "Output:\n",
                "````\n",
                "Cost-to-go for state (1, 0, 0, 2):\n",
                "\tTheoretical: [ 4.1]\n",
                "\tEmpirical: 4.39338954193\n",
                "Cost-to-go for state (3, 1, 4, 1):\n",
                "\tTheoretical: [ 4.1]\n",
                "\tEmpirical: 4.09638954193\n",
                "Cost-to-go for state (3, 2, 2, 2):\n",
                "\tTheoretical: [ 4.1]\n",
                "\tEmpirical: 4.3816865569\n",
                "```"
            ]
        }
    ],
    "metadata": {
        "celltoolbar": "Raw Cell Format",
        "kernelspec": {
            "display_name": "Python 3.9.12 ('base')",
            "language": "python",
            "name": "python3"
        },
        "language_info": {
            "codemirror_mode": {
                "name": "ipython",
                "version": 3
            },
            "file_extension": ".py",
            "mimetype": "text/x-python",
            "name": "python",
            "nbconvert_exporter": "python",
            "pygments_lexer": "ipython3",
            "version": "3.9.13"
        },
        "vscode": {
            "interpreter": {
                "hash": "3ee64af1d2fd69624ebd95506223eca3ca40f9ac15a1d63f541e5dbde5b38c23"
            }
        }
    },
    "nbformat": 4,
    "nbformat_minor": 1
}
